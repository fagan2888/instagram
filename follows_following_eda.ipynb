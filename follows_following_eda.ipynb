{
 "cells": [
  {
   "cell_type": "code",
   "execution_count": 1,
   "metadata": {},
   "outputs": [],
   "source": [
    "import pandas as pd\n",
    "import numpy as np\n",
    "\n",
    "# load accounts & info on followed\n",
    "follows_users = pd.read_csv('data/follows_users_ttv_princearthur_20190421_2205.csv')\n",
    "# load accounts & info on following\n",
    "by_users = pd.read_csv('data/followed_by_users_ttv_princearthru_20190421_1846.csv')"
   ]
  },
  {
   "cell_type": "code",
   "execution_count": 2,
   "metadata": {},
   "outputs": [
    {
     "data": {
      "text/html": [
       "<div>\n",
       "<style scoped>\n",
       "    .dataframe tbody tr th:only-of-type {\n",
       "        vertical-align: middle;\n",
       "    }\n",
       "\n",
       "    .dataframe tbody tr th {\n",
       "        vertical-align: top;\n",
       "    }\n",
       "\n",
       "    .dataframe thead th {\n",
       "        text-align: right;\n",
       "    }\n",
       "</style>\n",
       "<table border=\"1\" class=\"dataframe\">\n",
       "  <thead>\n",
       "    <tr style=\"text-align: right;\">\n",
       "      <th></th>\n",
       "      <th>id</th>\n",
       "      <th>username</th>\n",
       "      <th>full_name</th>\n",
       "      <th>user_profile</th>\n",
       "      <th>followed_by_viewer</th>\n",
       "      <th>requested_by_viewer</th>\n",
       "      <th>user_follows</th>\n",
       "      <th>user_followed_by</th>\n",
       "      <th>profile_pic_url</th>\n",
       "      <th>profile_pic_url_hd</th>\n",
       "      <th>is_private</th>\n",
       "      <th>follows_count</th>\n",
       "      <th>followed_by_count</th>\n",
       "      <th>media_count</th>\n",
       "      <th>latestPostDate</th>\n",
       "      <th>follows_viewer</th>\n",
       "      <th>biography</th>\n",
       "      <th>is_verified</th>\n",
       "    </tr>\n",
       "  </thead>\n",
       "  <tbody>\n",
       "    <tr>\n",
       "      <th>0</th>\n",
       "      <td>8416262456</td>\n",
       "      <td>itz._carlxs405</td>\n",
       "      <td>$CARLXS$🤪🤫</td>\n",
       "      <td>https://www.instagram.com/itz._carlxs405</td>\n",
       "      <td>True</td>\n",
       "      <td>False</td>\n",
       "      <td>True</td>\n",
       "      <td>False</td>\n",
       "      <td>https://scontent-sjc3-1.cdninstagram.com/vp/5d...</td>\n",
       "      <td>NaN</td>\n",
       "      <td>NaN</td>\n",
       "      <td>NaN</td>\n",
       "      <td>NaN</td>\n",
       "      <td>NaN</td>\n",
       "      <td>NaN</td>\n",
       "      <td>NaN</td>\n",
       "      <td>NaN</td>\n",
       "      <td>False</td>\n",
       "    </tr>\n",
       "    <tr>\n",
       "      <th>1</th>\n",
       "      <td>2077685663</td>\n",
       "      <td>ninja</td>\n",
       "      <td>Tyler Blevins</td>\n",
       "      <td>https://www.instagram.com/ninja</td>\n",
       "      <td>True</td>\n",
       "      <td>False</td>\n",
       "      <td>True</td>\n",
       "      <td>False</td>\n",
       "      <td>https://scontent-sjc3-1.cdninstagram.com/vp/0f...</td>\n",
       "      <td>NaN</td>\n",
       "      <td>NaN</td>\n",
       "      <td>NaN</td>\n",
       "      <td>NaN</td>\n",
       "      <td>NaN</td>\n",
       "      <td>NaN</td>\n",
       "      <td>NaN</td>\n",
       "      <td>NaN</td>\n",
       "      <td>True</td>\n",
       "    </tr>\n",
       "    <tr>\n",
       "      <th>2</th>\n",
       "      <td>327749245</td>\n",
       "      <td>mlgofficial</td>\n",
       "      <td>Major League Gaming</td>\n",
       "      <td>https://www.instagram.com/mlgofficial</td>\n",
       "      <td>True</td>\n",
       "      <td>False</td>\n",
       "      <td>True</td>\n",
       "      <td>False</td>\n",
       "      <td>https://scontent-sjc3-1.cdninstagram.com/vp/c5...</td>\n",
       "      <td>NaN</td>\n",
       "      <td>NaN</td>\n",
       "      <td>NaN</td>\n",
       "      <td>NaN</td>\n",
       "      <td>NaN</td>\n",
       "      <td>NaN</td>\n",
       "      <td>NaN</td>\n",
       "      <td>NaN</td>\n",
       "      <td>True</td>\n",
       "    </tr>\n",
       "    <tr>\n",
       "      <th>3</th>\n",
       "      <td>5573747484</td>\n",
       "      <td>davidarnett2004</td>\n",
       "      <td>Davidar</td>\n",
       "      <td>https://www.instagram.com/davidarnett2004</td>\n",
       "      <td>True</td>\n",
       "      <td>False</td>\n",
       "      <td>True</td>\n",
       "      <td>False</td>\n",
       "      <td>https://instagram.fewr1-3.fna.fbcdn.net/vp/fa6...</td>\n",
       "      <td>NaN</td>\n",
       "      <td>NaN</td>\n",
       "      <td>NaN</td>\n",
       "      <td>NaN</td>\n",
       "      <td>NaN</td>\n",
       "      <td>NaN</td>\n",
       "      <td>NaN</td>\n",
       "      <td>NaN</td>\n",
       "      <td>False</td>\n",
       "    </tr>\n",
       "    <tr>\n",
       "      <th>4</th>\n",
       "      <td>269438978</td>\n",
       "      <td>sonnym2</td>\n",
       "      <td>Zz</td>\n",
       "      <td>https://www.instagram.com/sonnym2</td>\n",
       "      <td>True</td>\n",
       "      <td>False</td>\n",
       "      <td>True</td>\n",
       "      <td>False</td>\n",
       "      <td>https://scontent-sjc3-1.cdninstagram.com/vp/7d...</td>\n",
       "      <td>NaN</td>\n",
       "      <td>NaN</td>\n",
       "      <td>NaN</td>\n",
       "      <td>NaN</td>\n",
       "      <td>NaN</td>\n",
       "      <td>NaN</td>\n",
       "      <td>NaN</td>\n",
       "      <td>NaN</td>\n",
       "      <td>False</td>\n",
       "    </tr>\n",
       "  </tbody>\n",
       "</table>\n",
       "</div>"
      ],
      "text/plain": [
       "           id         username            full_name  \\\n",
       "0  8416262456   itz._carlxs405           $CARLXS$🤪🤫   \n",
       "1  2077685663            ninja        Tyler Blevins   \n",
       "2   327749245      mlgofficial  Major League Gaming   \n",
       "3  5573747484  davidarnett2004              Davidar   \n",
       "4   269438978          sonnym2                   Zz   \n",
       "\n",
       "                                user_profile  followed_by_viewer  \\\n",
       "0   https://www.instagram.com/itz._carlxs405                True   \n",
       "1            https://www.instagram.com/ninja                True   \n",
       "2      https://www.instagram.com/mlgofficial                True   \n",
       "3  https://www.instagram.com/davidarnett2004                True   \n",
       "4          https://www.instagram.com/sonnym2                True   \n",
       "\n",
       "   requested_by_viewer  user_follows  user_followed_by  \\\n",
       "0                False          True             False   \n",
       "1                False          True             False   \n",
       "2                False          True             False   \n",
       "3                False          True             False   \n",
       "4                False          True             False   \n",
       "\n",
       "                                     profile_pic_url  profile_pic_url_hd  \\\n",
       "0  https://scontent-sjc3-1.cdninstagram.com/vp/5d...                 NaN   \n",
       "1  https://scontent-sjc3-1.cdninstagram.com/vp/0f...                 NaN   \n",
       "2  https://scontent-sjc3-1.cdninstagram.com/vp/c5...                 NaN   \n",
       "3  https://instagram.fewr1-3.fna.fbcdn.net/vp/fa6...                 NaN   \n",
       "4  https://scontent-sjc3-1.cdninstagram.com/vp/7d...                 NaN   \n",
       "\n",
       "   is_private  follows_count  followed_by_count  media_count  latestPostDate  \\\n",
       "0         NaN            NaN                NaN          NaN             NaN   \n",
       "1         NaN            NaN                NaN          NaN             NaN   \n",
       "2         NaN            NaN                NaN          NaN             NaN   \n",
       "3         NaN            NaN                NaN          NaN             NaN   \n",
       "4         NaN            NaN                NaN          NaN             NaN   \n",
       "\n",
       "   follows_viewer  biography  is_verified  \n",
       "0             NaN        NaN        False  \n",
       "1             NaN        NaN         True  \n",
       "2             NaN        NaN         True  \n",
       "3             NaN        NaN        False  \n",
       "4             NaN        NaN        False  "
      ]
     },
     "execution_count": 2,
     "metadata": {},
     "output_type": "execute_result"
    }
   ],
   "source": [
    "follows_users.head()"
   ]
  },
  {
   "cell_type": "code",
   "execution_count": 3,
   "metadata": {},
   "outputs": [
    {
     "data": {
      "text/html": [
       "<div>\n",
       "<style scoped>\n",
       "    .dataframe tbody tr th:only-of-type {\n",
       "        vertical-align: middle;\n",
       "    }\n",
       "\n",
       "    .dataframe tbody tr th {\n",
       "        vertical-align: top;\n",
       "    }\n",
       "\n",
       "    .dataframe thead th {\n",
       "        text-align: right;\n",
       "    }\n",
       "</style>\n",
       "<table border=\"1\" class=\"dataframe\">\n",
       "  <thead>\n",
       "    <tr style=\"text-align: right;\">\n",
       "      <th></th>\n",
       "      <th>id</th>\n",
       "      <th>username</th>\n",
       "      <th>full_name</th>\n",
       "      <th>user_profile</th>\n",
       "      <th>followed_by_viewer</th>\n",
       "      <th>requested_by_viewer</th>\n",
       "      <th>user_follows</th>\n",
       "      <th>user_followed_by</th>\n",
       "      <th>profile_pic_url</th>\n",
       "      <th>profile_pic_url_hd</th>\n",
       "      <th>is_private</th>\n",
       "      <th>follows_count</th>\n",
       "      <th>followed_by_count</th>\n",
       "      <th>media_count</th>\n",
       "      <th>latestPostDate</th>\n",
       "      <th>follows_viewer</th>\n",
       "      <th>biography</th>\n",
       "      <th>is_verified</th>\n",
       "    </tr>\n",
       "  </thead>\n",
       "  <tbody>\n",
       "    <tr>\n",
       "      <th>0</th>\n",
       "      <td>8250864621</td>\n",
       "      <td>solotendapromosindo</td>\n",
       "      <td>solotendapromosindo</td>\n",
       "      <td>https://www.instagram.com/solotendapromosindo</td>\n",
       "      <td>False</td>\n",
       "      <td>False</td>\n",
       "      <td>False</td>\n",
       "      <td>True</td>\n",
       "      <td>https://scontent-sjc3-1.cdninstagram.com/vp/c3...</td>\n",
       "      <td>NaN</td>\n",
       "      <td>NaN</td>\n",
       "      <td>NaN</td>\n",
       "      <td>NaN</td>\n",
       "      <td>NaN</td>\n",
       "      <td>NaN</td>\n",
       "      <td>NaN</td>\n",
       "      <td>NaN</td>\n",
       "      <td>False</td>\n",
       "    </tr>\n",
       "    <tr>\n",
       "      <th>1</th>\n",
       "      <td>191638865</td>\n",
       "      <td>crossfitfortius</td>\n",
       "      <td>Fortius™</td>\n",
       "      <td>https://www.instagram.com/crossfitfortius</td>\n",
       "      <td>False</td>\n",
       "      <td>False</td>\n",
       "      <td>False</td>\n",
       "      <td>True</td>\n",
       "      <td>https://scontent-sjc3-1.cdninstagram.com/vp/57...</td>\n",
       "      <td>NaN</td>\n",
       "      <td>NaN</td>\n",
       "      <td>NaN</td>\n",
       "      <td>NaN</td>\n",
       "      <td>NaN</td>\n",
       "      <td>NaN</td>\n",
       "      <td>NaN</td>\n",
       "      <td>NaN</td>\n",
       "      <td>False</td>\n",
       "    </tr>\n",
       "    <tr>\n",
       "      <th>2</th>\n",
       "      <td>12865793762</td>\n",
       "      <td>harvey.kathleen61301</td>\n",
       "      <td>Harvey Kathleen</td>\n",
       "      <td>https://www.instagram.com/harvey.kathleen61301</td>\n",
       "      <td>False</td>\n",
       "      <td>False</td>\n",
       "      <td>False</td>\n",
       "      <td>True</td>\n",
       "      <td>https://scontent-sjc3-1.cdninstagram.com/vp/5b...</td>\n",
       "      <td>NaN</td>\n",
       "      <td>NaN</td>\n",
       "      <td>NaN</td>\n",
       "      <td>NaN</td>\n",
       "      <td>NaN</td>\n",
       "      <td>NaN</td>\n",
       "      <td>NaN</td>\n",
       "      <td>NaN</td>\n",
       "      <td>False</td>\n",
       "    </tr>\n",
       "    <tr>\n",
       "      <th>3</th>\n",
       "      <td>10891351352</td>\n",
       "      <td>imgenax</td>\n",
       "      <td>Genax</td>\n",
       "      <td>https://www.instagram.com/imgenax</td>\n",
       "      <td>False</td>\n",
       "      <td>False</td>\n",
       "      <td>False</td>\n",
       "      <td>True</td>\n",
       "      <td>https://scontent-sjc3-1.cdninstagram.com/vp/0f...</td>\n",
       "      <td>NaN</td>\n",
       "      <td>NaN</td>\n",
       "      <td>NaN</td>\n",
       "      <td>NaN</td>\n",
       "      <td>NaN</td>\n",
       "      <td>NaN</td>\n",
       "      <td>NaN</td>\n",
       "      <td>NaN</td>\n",
       "      <td>False</td>\n",
       "    </tr>\n",
       "    <tr>\n",
       "      <th>4</th>\n",
       "      <td>10025331126</td>\n",
       "      <td>games_moment_</td>\n",
       "      <td>🎮❣️Gamergirl_lyh❣️🎮</td>\n",
       "      <td>https://www.instagram.com/games_moment_</td>\n",
       "      <td>False</td>\n",
       "      <td>False</td>\n",
       "      <td>False</td>\n",
       "      <td>True</td>\n",
       "      <td>https://scontent-sjc3-1.cdninstagram.com/vp/ea...</td>\n",
       "      <td>NaN</td>\n",
       "      <td>NaN</td>\n",
       "      <td>NaN</td>\n",
       "      <td>NaN</td>\n",
       "      <td>NaN</td>\n",
       "      <td>NaN</td>\n",
       "      <td>NaN</td>\n",
       "      <td>NaN</td>\n",
       "      <td>False</td>\n",
       "    </tr>\n",
       "  </tbody>\n",
       "</table>\n",
       "</div>"
      ],
      "text/plain": [
       "            id              username            full_name  \\\n",
       "0   8250864621   solotendapromosindo  solotendapromosindo   \n",
       "1    191638865       crossfitfortius             Fortius™   \n",
       "2  12865793762  harvey.kathleen61301      Harvey Kathleen   \n",
       "3  10891351352               imgenax                Genax   \n",
       "4  10025331126         games_moment_  🎮❣️Gamergirl_lyh❣️🎮   \n",
       "\n",
       "                                     user_profile  followed_by_viewer  \\\n",
       "0   https://www.instagram.com/solotendapromosindo               False   \n",
       "1       https://www.instagram.com/crossfitfortius               False   \n",
       "2  https://www.instagram.com/harvey.kathleen61301               False   \n",
       "3               https://www.instagram.com/imgenax               False   \n",
       "4         https://www.instagram.com/games_moment_               False   \n",
       "\n",
       "   requested_by_viewer  user_follows  user_followed_by  \\\n",
       "0                False         False              True   \n",
       "1                False         False              True   \n",
       "2                False         False              True   \n",
       "3                False         False              True   \n",
       "4                False         False              True   \n",
       "\n",
       "                                     profile_pic_url  profile_pic_url_hd  \\\n",
       "0  https://scontent-sjc3-1.cdninstagram.com/vp/c3...                 NaN   \n",
       "1  https://scontent-sjc3-1.cdninstagram.com/vp/57...                 NaN   \n",
       "2  https://scontent-sjc3-1.cdninstagram.com/vp/5b...                 NaN   \n",
       "3  https://scontent-sjc3-1.cdninstagram.com/vp/0f...                 NaN   \n",
       "4  https://scontent-sjc3-1.cdninstagram.com/vp/ea...                 NaN   \n",
       "\n",
       "   is_private  follows_count  followed_by_count  media_count  latestPostDate  \\\n",
       "0         NaN            NaN                NaN          NaN             NaN   \n",
       "1         NaN            NaN                NaN          NaN             NaN   \n",
       "2         NaN            NaN                NaN          NaN             NaN   \n",
       "3         NaN            NaN                NaN          NaN             NaN   \n",
       "4         NaN            NaN                NaN          NaN             NaN   \n",
       "\n",
       "   follows_viewer  biography  is_verified  \n",
       "0             NaN        NaN        False  \n",
       "1             NaN        NaN        False  \n",
       "2             NaN        NaN        False  \n",
       "3             NaN        NaN        False  \n",
       "4             NaN        NaN        False  "
      ]
     },
     "execution_count": 3,
     "metadata": {},
     "output_type": "execute_result"
    }
   ],
   "source": [
    "by_users.head()"
   ]
  },
  {
   "cell_type": "code",
   "execution_count": 4,
   "metadata": {},
   "outputs": [
    {
     "data": {
      "text/plain": [
       "(18, 18, 18, 0)"
      ]
     },
     "execution_count": 4,
     "metadata": {},
     "output_type": "execute_result"
    }
   ],
   "source": [
    "len(follows_users.columns),len(by_users.columns),sum(follows_users.columns == by_users.columns),sum(follows_users.columns != by_users.columns)"
   ]
  },
  {
   "cell_type": "code",
   "execution_count": 5,
   "metadata": {},
   "outputs": [
    {
     "data": {
      "text/plain": [
       "0     https://www.instagram.com/itz._carlxs405\n",
       "1              https://www.instagram.com/ninja\n",
       "2        https://www.instagram.com/mlgofficial\n",
       "3    https://www.instagram.com/davidarnett2004\n",
       "4            https://www.instagram.com/sonnym2\n",
       "Name: user_profile, dtype: object"
      ]
     },
     "execution_count": 5,
     "metadata": {},
     "output_type": "execute_result"
    }
   ],
   "source": [
    "follows_users.user_profile.head()"
   ]
  },
  {
   "cell_type": "code",
   "execution_count": 6,
   "metadata": {},
   "outputs": [
    {
     "data": {
      "text/plain": [
       "0     https://www.instagram.com/solotendapromosindo\n",
       "1         https://www.instagram.com/crossfitfortius\n",
       "2    https://www.instagram.com/harvey.kathleen61301\n",
       "3                 https://www.instagram.com/imgenax\n",
       "4           https://www.instagram.com/games_moment_\n",
       "Name: user_profile, dtype: object"
      ]
     },
     "execution_count": 6,
     "metadata": {},
     "output_type": "execute_result"
    }
   ],
   "source": [
    "by_users.user_profile.head()"
   ]
  },
  {
   "cell_type": "code",
   "execution_count": 7,
   "metadata": {},
   "outputs": [
    {
     "data": {
      "text/plain": [
       "(7290, 1481)"
      ]
     },
     "execution_count": 7,
     "metadata": {},
     "output_type": "execute_result"
    }
   ],
   "source": [
    "len(follows_users.user_profile),len(by_users.user_profile)"
   ]
  },
  {
   "cell_type": "code",
   "execution_count": 8,
   "metadata": {},
   "outputs": [],
   "source": [
    "\"\"\"ACTUAL\"\"\"\n",
    "# 7,289 following\n",
    "# 1,479 followers\n",
    "pass"
   ]
  },
  {
   "cell_type": "markdown",
   "metadata": {},
   "source": [
    "- ***notes***:\n",
    "    - 2 over on followers\n",
    "    - 1 over on following"
   ]
  },
  {
   "cell_type": "code",
   "execution_count": 9,
   "metadata": {},
   "outputs": [],
   "source": [
    "# collection of people we follow who are following us\n",
    "followers_being_followed = [user for user in follows_users.username if user in by_users.username]\n",
    "# collection of people we follow who are NOT following us\n",
    "non_followers_being_followed = [user for user in follows_users.username if user not in by_users.username]"
   ]
  },
  {
   "cell_type": "code",
   "execution_count": 10,
   "metadata": {},
   "outputs": [
    {
     "data": {
      "text/plain": [
       "(0, 7290)"
      ]
     },
     "execution_count": 10,
     "metadata": {},
     "output_type": "execute_result"
    }
   ],
   "source": [
    "len(followers_being_followed),len(non_followers_being_followed)"
   ]
  },
  {
   "cell_type": "code",
   "execution_count": 11,
   "metadata": {},
   "outputs": [
    {
     "data": {
      "text/html": [
       "<div>\n",
       "<style scoped>\n",
       "    .dataframe tbody tr th:only-of-type {\n",
       "        vertical-align: middle;\n",
       "    }\n",
       "\n",
       "    .dataframe tbody tr th {\n",
       "        vertical-align: top;\n",
       "    }\n",
       "\n",
       "    .dataframe thead th {\n",
       "        text-align: right;\n",
       "    }\n",
       "</style>\n",
       "<table border=\"1\" class=\"dataframe\">\n",
       "  <thead>\n",
       "    <tr style=\"text-align: right;\">\n",
       "      <th></th>\n",
       "      <th>id</th>\n",
       "      <th>username</th>\n",
       "      <th>full_name</th>\n",
       "      <th>user_profile</th>\n",
       "      <th>followed_by_viewer</th>\n",
       "      <th>requested_by_viewer</th>\n",
       "      <th>user_follows</th>\n",
       "      <th>user_followed_by</th>\n",
       "      <th>profile_pic_url</th>\n",
       "      <th>profile_pic_url_hd</th>\n",
       "      <th>is_private</th>\n",
       "      <th>follows_count</th>\n",
       "      <th>followed_by_count</th>\n",
       "      <th>media_count</th>\n",
       "      <th>latestPostDate</th>\n",
       "      <th>follows_viewer</th>\n",
       "      <th>biography</th>\n",
       "      <th>is_verified</th>\n",
       "    </tr>\n",
       "  </thead>\n",
       "  <tbody>\n",
       "    <tr>\n",
       "      <th>1480</th>\n",
       "      <td>54528654</td>\n",
       "      <td>winstonr2</td>\n",
       "      <td>Winston</td>\n",
       "      <td>https://www.instagram.com/winstonr2</td>\n",
       "      <td>True</td>\n",
       "      <td>False</td>\n",
       "      <td>False</td>\n",
       "      <td>True</td>\n",
       "      <td>https://scontent-sjc3-1.cdninstagram.com/vp/fa...</td>\n",
       "      <td>NaN</td>\n",
       "      <td>NaN</td>\n",
       "      <td>NaN</td>\n",
       "      <td>NaN</td>\n",
       "      <td>NaN</td>\n",
       "      <td>NaN</td>\n",
       "      <td>NaN</td>\n",
       "      <td>NaN</td>\n",
       "      <td>False</td>\n",
       "    </tr>\n",
       "  </tbody>\n",
       "</table>\n",
       "</div>"
      ],
      "text/plain": [
       "            id   username full_name                         user_profile  \\\n",
       "1480  54528654  winstonr2   Winston  https://www.instagram.com/winstonr2   \n",
       "\n",
       "      followed_by_viewer  requested_by_viewer  user_follows  user_followed_by  \\\n",
       "1480                True                False         False              True   \n",
       "\n",
       "                                        profile_pic_url  profile_pic_url_hd  \\\n",
       "1480  https://scontent-sjc3-1.cdninstagram.com/vp/fa...                 NaN   \n",
       "\n",
       "      is_private  follows_count  followed_by_count  media_count  \\\n",
       "1480         NaN            NaN                NaN          NaN   \n",
       "\n",
       "      latestPostDate  follows_viewer  biography  is_verified  \n",
       "1480             NaN             NaN        NaN        False  "
      ]
     },
     "execution_count": 11,
     "metadata": {},
     "output_type": "execute_result"
    }
   ],
   "source": [
    "by_users.loc[by_users.username == 'winstonr2']"
   ]
  },
  {
   "cell_type": "code",
   "execution_count": 12,
   "metadata": {},
   "outputs": [
    {
     "data": {
      "text/html": [
       "<div>\n",
       "<style scoped>\n",
       "    .dataframe tbody tr th:only-of-type {\n",
       "        vertical-align: middle;\n",
       "    }\n",
       "\n",
       "    .dataframe tbody tr th {\n",
       "        vertical-align: top;\n",
       "    }\n",
       "\n",
       "    .dataframe thead th {\n",
       "        text-align: right;\n",
       "    }\n",
       "</style>\n",
       "<table border=\"1\" class=\"dataframe\">\n",
       "  <thead>\n",
       "    <tr style=\"text-align: right;\">\n",
       "      <th></th>\n",
       "      <th>id</th>\n",
       "      <th>username</th>\n",
       "      <th>full_name</th>\n",
       "      <th>user_profile</th>\n",
       "      <th>followed_by_viewer</th>\n",
       "      <th>requested_by_viewer</th>\n",
       "      <th>user_follows</th>\n",
       "      <th>user_followed_by</th>\n",
       "      <th>profile_pic_url</th>\n",
       "      <th>profile_pic_url_hd</th>\n",
       "      <th>is_private</th>\n",
       "      <th>follows_count</th>\n",
       "      <th>followed_by_count</th>\n",
       "      <th>media_count</th>\n",
       "      <th>latestPostDate</th>\n",
       "      <th>follows_viewer</th>\n",
       "      <th>biography</th>\n",
       "      <th>is_verified</th>\n",
       "    </tr>\n",
       "  </thead>\n",
       "  <tbody>\n",
       "    <tr>\n",
       "      <th>1642</th>\n",
       "      <td>54528654</td>\n",
       "      <td>winstonr2</td>\n",
       "      <td>Winston</td>\n",
       "      <td>https://www.instagram.com/winstonr2</td>\n",
       "      <td>True</td>\n",
       "      <td>False</td>\n",
       "      <td>True</td>\n",
       "      <td>False</td>\n",
       "      <td>https://scontent-sjc3-1.cdninstagram.com/vp/fa...</td>\n",
       "      <td>NaN</td>\n",
       "      <td>NaN</td>\n",
       "      <td>NaN</td>\n",
       "      <td>NaN</td>\n",
       "      <td>NaN</td>\n",
       "      <td>NaN</td>\n",
       "      <td>NaN</td>\n",
       "      <td>NaN</td>\n",
       "      <td>False</td>\n",
       "    </tr>\n",
       "  </tbody>\n",
       "</table>\n",
       "</div>"
      ],
      "text/plain": [
       "            id   username full_name                         user_profile  \\\n",
       "1642  54528654  winstonr2   Winston  https://www.instagram.com/winstonr2   \n",
       "\n",
       "      followed_by_viewer  requested_by_viewer  user_follows  user_followed_by  \\\n",
       "1642                True                False          True             False   \n",
       "\n",
       "                                        profile_pic_url  profile_pic_url_hd  \\\n",
       "1642  https://scontent-sjc3-1.cdninstagram.com/vp/fa...                 NaN   \n",
       "\n",
       "      is_private  follows_count  followed_by_count  media_count  \\\n",
       "1642         NaN            NaN                NaN          NaN   \n",
       "\n",
       "      latestPostDate  follows_viewer  biography  is_verified  \n",
       "1642             NaN             NaN        NaN        False  "
      ]
     },
     "execution_count": 12,
     "metadata": {},
     "output_type": "execute_result"
    }
   ],
   "source": [
    "follows_users.loc[follows_users.username == 'winstonr2']"
   ]
  },
  {
   "cell_type": "code",
   "execution_count": 13,
   "metadata": {},
   "outputs": [],
   "source": [
    "by_usernames = np.array(by_users.user_profile)\n",
    "follows_usernames = np.array(follows_users.user_profile)"
   ]
  },
  {
   "cell_type": "code",
   "execution_count": 14,
   "metadata": {},
   "outputs": [
    {
     "name": "stdout",
     "output_type": "stream",
     "text": [
      "669\n"
     ]
    }
   ],
   "source": [
    "# count coexisting\n",
    "_=0\n",
    "for i in follows_usernames:\n",
    "    if i in by_usernames:\n",
    "        _+=1\n",
    "print(_)"
   ]
  },
  {
   "cell_type": "markdown",
   "metadata": {},
   "source": [
    "- ***actions***:\n",
    "    - we will unfollow all except 669 users"
   ]
  },
  {
   "cell_type": "code",
   "execution_count": 15,
   "metadata": {},
   "outputs": [],
   "source": [
    "# collect urls to profiles to unfollow \n",
    "unfollow_these = [user for user in follows_usernames if user not in by_usernames]\n",
    "# collect urls to keep (double check overlap)\n",
    "keep_these = [user for user in follows_usernames if user in by_usernames]"
   ]
  },
  {
   "cell_type": "code",
   "execution_count": 16,
   "metadata": {},
   "outputs": [],
   "source": [
    "# check overlap\n",
    "safe_check = 0\n",
    "for user in keep_these:\n",
    "    if user in unfollow_these:\n",
    "        raise Exception('f')\n",
    "    else:\n",
    "        safe_check += 1\n",
    "# double check overlap\n",
    "if safe_check != len(keep_these):\n",
    "    raise Exception('ff')"
   ]
  },
  {
   "cell_type": "code",
   "execution_count": 17,
   "metadata": {},
   "outputs": [
    {
     "name": "stdout",
     "output_type": "stream",
     "text": [
      "https://www.instagram.com/ninja\n"
     ]
    }
   ],
   "source": [
    "print(unfollow_these[0])"
   ]
  },
  {
   "cell_type": "markdown",
   "metadata": {},
   "source": [
    "- ***notes***:\n",
    "    - ready for unfollowin\n",
    "- ***actions***:\n",
    "    - take list to Selenium webdriver (likely gecko)\n",
    "        - load page of user being followed \n",
    "            - click following button\n",
    "                - click unfollowing button \n",
    "        - repeat "
   ]
  },
  {
   "cell_type": "code",
   "execution_count": 18,
   "metadata": {},
   "outputs": [],
   "source": [
    "following_button = '.vBF20'\n",
    "unfollow_button = 'button.aOOlW:nth-child(1)'"
   ]
  },
  {
   "cell_type": "code",
   "execution_count": 19,
   "metadata": {},
   "outputs": [
    {
     "data": {
      "text/plain": [
       "['https://www.instagram.com/ninja',\n",
       " 'https://www.instagram.com/mlgofficial',\n",
       " 'https://www.instagram.com/davidarnett2004',\n",
       " 'https://www.instagram.com/sonnym2',\n",
       " 'https://www.instagram.com/kunal_singh.v',\n",
       " 'https://www.instagram.com/abdul.rafay_11',\n",
       " 'https://www.instagram.com/theofficialgibbay',\n",
       " 'https://www.instagram.com/andersonpsgames',\n",
       " 'https://www.instagram.com/the_wolfe_pac',\n",
       " 'https://www.instagram.com/aresthevillain',\n",
       " 'https://www.instagram.com/playstationinfo.access',\n",
       " 'https://www.instagram.com/jammyjimjay',\n",
       " 'https://www.instagram.com/realhksmash',\n",
       " 'https://www.instagram.com/dekori_5513',\n",
       " 'https://www.instagram.com/jsmondays',\n",
       " 'https://www.instagram.com/guntursyabani',\n",
       " 'https://www.instagram.com/shazad_khan11',\n",
       " 'https://www.instagram.com/_frank.1k',\n",
       " 'https://www.instagram.com/jacobray.jpeg',\n",
       " 'https://www.instagram.com/nphoangminh',\n",
       " 'https://www.instagram.com/camtheman1215',\n",
       " 'https://www.instagram.com/succcccccccccccc',\n",
       " 'https://www.instagram.com/jmdbeast417',\n",
       " 'https://www.instagram.com/saklain_1169only',\n",
       " 'https://www.instagram.com/gamingstash',\n",
       " 'https://www.instagram.com/blazercentral9212',\n",
       " 'https://www.instagram.com/cody_austin_brown',\n",
       " 'https://www.instagram.com/rootedinspiration',\n",
       " 'https://www.instagram.com/keem_sodmg',\n",
       " 'https://www.instagram.com/mauriceall2',\n",
       " 'https://www.instagram.com/diogoluis1304',\n",
       " 'https://www.instagram.com/angelo.abrego_',\n",
       " 'https://www.instagram.com/kxng_blaze68',\n",
       " 'https://www.instagram.com/nolimitjrv',\n",
       " 'https://www.instagram.com/baysickm8',\n",
       " 'https://www.instagram.com/moztdo93',\n",
       " 'https://www.instagram.com/xboxdead',\n",
       " 'https://www.instagram.com/viralstattoo',\n",
       " 'https://www.instagram.com/exploration.addict',\n",
       " 'https://www.instagram.com/ze_limia',\n",
       " 'https://www.instagram.com/victor_vansuita',\n",
       " 'https://www.instagram.com/clear.fit.girls',\n",
       " 'https://www.instagram.com/_insta__kour____2',\n",
       " 'https://www.instagram.com/travel_green_',\n",
       " 'https://www.instagram.com/ldr_vids',\n",
       " 'https://www.instagram.com/underwwood',\n",
       " 'https://www.instagram.com/callme_totones',\n",
       " 'https://www.instagram.com/keviin_0412',\n",
       " 'https://www.instagram.com/ian.schumacher17',\n",
       " 'https://www.instagram.com/_.frankogallardo',\n",
       " 'https://www.instagram.com/johnjohn.1320',\n",
       " 'https://www.instagram.com/hail.thecesar',\n",
       " 'https://www.instagram.com/hrh90',\n",
       " 'https://www.instagram.com/captain5522',\n",
       " 'https://www.instagram.com/thomasermen',\n",
       " 'https://www.instagram.com/jlesan55',\n",
       " 'https://www.instagram.com/shamz_mk7',\n",
       " 'https://www.instagram.com/jesusgarciaolivarez',\n",
       " 'https://www.instagram.com/jamiesmith155',\n",
       " 'https://www.instagram.com/dani_auraa',\n",
       " 'https://www.instagram.com/iamvincenzoarcudi',\n",
       " 'https://www.instagram.com/_piqies',\n",
       " 'https://www.instagram.com/rolicobo',\n",
       " 'https://www.instagram.com/ezekiel_romero',\n",
       " 'https://www.instagram.com/diegomena0103',\n",
       " 'https://www.instagram.com/webby__98',\n",
       " 'https://www.instagram.com/codystanowski',\n",
       " 'https://www.instagram.com/marques_1488',\n",
       " 'https://www.instagram.com/b.wavyy',\n",
       " 'https://www.instagram.com/yannics2.acc',\n",
       " 'https://www.instagram.com/marcusenergize',\n",
       " 'https://www.instagram.com/chazzwell_',\n",
       " 'https://www.instagram.com/mexican4119',\n",
       " 'https://www.instagram.com/foldmeister2',\n",
       " 'https://www.instagram.com/sadaa_csgo',\n",
       " 'https://www.instagram.com/complx.ees',\n",
       " 'https://www.instagram.com/mike.born23',\n",
       " 'https://www.instagram.com/yungmpaimp',\n",
       " 'https://www.instagram.com/carsonhoff6m',\n",
       " 'https://www.instagram.com/killerman5007',\n",
       " 'https://www.instagram.com/munagalasubhash',\n",
       " 'https://www.instagram.com/av0n_expert',\n",
       " 'https://www.instagram.com/ilgarlando',\n",
       " 'https://www.instagram.com/starboy_arunn',\n",
       " 'https://www.instagram.com/journeytograndmaster',\n",
       " 'https://www.instagram.com/harxhh',\n",
       " 'https://www.instagram.com/wsjrealestate',\n",
       " 'https://www.instagram.com/realestate',\n",
       " 'https://www.instagram.com/manic_panic89',\n",
       " 'https://www.instagram.com/chrispin_crunch',\n",
       " 'https://www.instagram.com/gamelicious_girl',\n",
       " 'https://www.instagram.com/itslethalttv',\n",
       " 'https://www.instagram.com/blakeharris._',\n",
       " 'https://www.instagram.com/smh.joel',\n",
       " 'https://www.instagram.com/powercrunchtv',\n",
       " 'https://www.instagram.com/jumbo3315',\n",
       " 'https://www.instagram.com/twalkman_13',\n",
       " 'https://www.instagram.com/_aryan_hasbi_',\n",
       " 'https://www.instagram.com/mohdfadhlikarami',\n",
       " 'https://www.instagram.com/rizkyfadillahxd']"
      ]
     },
     "execution_count": 19,
     "metadata": {},
     "output_type": "execute_result"
    }
   ],
   "source": [
    "unfollow_these[:100]"
   ]
  },
  {
   "cell_type": "code",
   "execution_count": 24,
   "metadata": {},
   "outputs": [],
   "source": [
    "import datetime\n",
    "x = datetime.datetime.now()"
   ]
  },
  {
   "cell_type": "code",
   "execution_count": 25,
   "metadata": {},
   "outputs": [
    {
     "data": {
      "text/plain": [
       "datetime.datetime(2019, 4, 22, 3, 8, 10, 149200)"
      ]
     },
     "execution_count": 25,
     "metadata": {},
     "output_type": "execute_result"
    }
   ],
   "source": [
    "x"
   ]
  },
  {
   "cell_type": "code",
   "execution_count": null,
   "metadata": {},
   "outputs": [],
   "source": []
  }
 ],
 "metadata": {
  "kernelspec": {
   "display_name": "Python 3",
   "language": "python",
   "name": "python3"
  },
  "language_info": {
   "codemirror_mode": {
    "name": "ipython",
    "version": 3
   },
   "file_extension": ".py",
   "mimetype": "text/x-python",
   "name": "python",
   "nbconvert_exporter": "python",
   "pygments_lexer": "ipython3",
   "version": "3.7.2"
  }
 },
 "nbformat": 4,
 "nbformat_minor": 2
}

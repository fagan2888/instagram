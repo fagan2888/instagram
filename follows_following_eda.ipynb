{
 "cells": [
  {
   "cell_type": "code",
   "execution_count": null,
   "metadata": {},
   "outputs": [],
   "source": [
    "import pandas as pd\n",
    "import numpy as np\n",
    "\n",
    "# load accounts & info on followed\n",
    "follows_users = pd.read_csv('data/follows_users_ttv_princearthur_20190421_2205.csv')\n",
    "# load accounts & info on following\n",
    "by_users = pd.read_csv('data/followed_by_users_ttv_princearthru_20190421_1846.csv')"
   ]
  },
  {
   "cell_type": "code",
   "execution_count": null,
   "metadata": {},
   "outputs": [],
   "source": [
    "follows_users.head()"
   ]
  },
  {
   "cell_type": "code",
   "execution_count": null,
   "metadata": {},
   "outputs": [],
   "source": [
    "by_users.head()"
   ]
  },
  {
   "cell_type": "code",
   "execution_count": null,
   "metadata": {},
   "outputs": [],
   "source": [
    "len(follows_users.columns),len(by_users.columns),sum(follows_users.columns == by_users.columns),sum(follows_users.columns != by_users.columns)"
   ]
  },
  {
   "cell_type": "code",
   "execution_count": null,
   "metadata": {},
   "outputs": [],
   "source": [
    "follows_users.user_profile.head()"
   ]
  },
  {
   "cell_type": "code",
   "execution_count": null,
   "metadata": {},
   "outputs": [],
   "source": [
    "by_users.user_profile.head()"
   ]
  },
  {
   "cell_type": "code",
   "execution_count": null,
   "metadata": {},
   "outputs": [],
   "source": [
    "len(follows_users.user_profile),len(by_users.user_profile)"
   ]
  },
  {
   "cell_type": "code",
   "execution_count": null,
   "metadata": {},
   "outputs": [],
   "source": [
    "\"\"\"ACTUAL\"\"\"\n",
    "# 7,289 following\n",
    "# 1,479 followers\n",
    "pass"
   ]
  },
  {
   "cell_type": "markdown",
   "metadata": {},
   "source": [
    "- ***notes***:\n",
    "    - 2 over on followers\n",
    "    - 1 over on following"
   ]
  },
  {
   "cell_type": "code",
   "execution_count": null,
   "metadata": {},
   "outputs": [],
   "source": [
    "# collection of people we follow who are following us\n",
    "followers_being_followed = [user for user in follows_users.username if user in by_users.username]\n",
    "# collection of people we follow who are NOT following us\n",
    "non_followers_being_followed = [user for user in follows_users.username if user not in by_users.username]"
   ]
  },
  {
   "cell_type": "code",
   "execution_count": null,
   "metadata": {},
   "outputs": [],
   "source": [
    "len(followers_being_followed),len(non_followers_being_followed)"
   ]
  },
  {
   "cell_type": "code",
   "execution_count": null,
   "metadata": {},
   "outputs": [],
   "source": [
    "by_users.loc[by_users.username == 'winstonr2']"
   ]
  },
  {
   "cell_type": "code",
   "execution_count": null,
   "metadata": {},
   "outputs": [],
   "source": [
    "follows_users.loc[follows_users.username == 'winstonr2']"
   ]
  },
  {
   "cell_type": "code",
   "execution_count": null,
   "metadata": {},
   "outputs": [],
   "source": [
    "by_usernames = np.array(by_users.user_profile)\n",
    "follows_usernames = np.array(follows_users.user_profile)"
   ]
  },
  {
   "cell_type": "code",
   "execution_count": null,
   "metadata": {},
   "outputs": [],
   "source": [
    "# count coexisting\n",
    "_=0\n",
    "for i in follows_usernames:\n",
    "    if i in by_usernames:\n",
    "        _+=1\n",
    "print(_)"
   ]
  },
  {
   "cell_type": "markdown",
   "metadata": {},
   "source": [
    "- ***actions***:\n",
    "    - we will unfollow all except 669 users"
   ]
  },
  {
   "cell_type": "code",
   "execution_count": null,
   "metadata": {},
   "outputs": [],
   "source": [
    "# collect urls to profiles to unfollow \n",
    "unfollow_these = [user for user in follows_usernames if user not in by_usernames]\n",
    "# collect urls to keep (double check overlap)\n",
    "keep_these = [user for user in follows_usernames if user in by_usernames]"
   ]
  },
  {
   "cell_type": "code",
   "execution_count": null,
   "metadata": {},
   "outputs": [],
   "source": [
    "# check overlap\n",
    "safe_check = 0\n",
    "for user in keep_these:\n",
    "    if user in unfollow_these:\n",
    "        raise Exception('f')\n",
    "    else:\n",
    "        safe_check += 1\n",
    "# double check overlap\n",
    "if safe_check != len(keep_these):\n",
    "    raise Exception('ff')"
   ]
  },
  {
   "cell_type": "code",
   "execution_count": null,
   "metadata": {},
   "outputs": [],
   "source": [
    "print(unfollow_these[0])"
   ]
  },
  {
   "cell_type": "markdown",
   "metadata": {},
   "source": [
    "- ***notes***:\n",
    "    - ready for unfollowin\n",
    "- ***actions***:\n",
    "    - take list to Selenium webdriver (likely gecko)\n",
    "        - load page of user being followed \n",
    "            - click following button\n",
    "                - click unfollowing button \n",
    "        - repeat "
   ]
  },
  {
   "cell_type": "code",
   "execution_count": null,
   "metadata": {},
   "outputs": [],
   "source": [
    "following_button = '.vBF20'\n",
    "unfollow_button = 'button.aOOlW:nth-child(1)'"
   ]
  },
  {
   "cell_type": "code",
   "execution_count": null,
   "metadata": {},
   "outputs": [],
   "source": [
    "unfollow_these[:100]"
   ]
  },
  {
   "cell_type": "code",
   "execution_count": null,
   "metadata": {},
   "outputs": [],
   "source": [
    "import datetime\n",
    "x = datetime.datetime.now()"
   ]
  },
  {
   "cell_type": "code",
   "execution_count": null,
   "metadata": {},
   "outputs": [],
   "source": [
    "x"
   ]
  },
  {
   "cell_type": "code",
   "execution_count": 1,
   "metadata": {},
   "outputs": [],
   "source": [
    "# for loading and sorting data regarding accounts of interest \n",
    "import numpy as np\n",
    "import pandas as pd\n",
    "# for taking action on accounts of interest\n",
    "from time import sleep\n",
    "from selenium import webdriver \n",
    "from selenium.webdriver.common.keys import Keys\n",
    "# for documentation\n",
    "import csv\n",
    "import datetime\n",
    "# loading login info (adjust to import yours or take this line out and input near bottom)\n",
    "from _pile import utv, ptv"
   ]
  },
  {
   "cell_type": "code",
   "execution_count": 2,
   "metadata": {},
   "outputs": [],
   "source": [
    "# load accounts & info on followed\n",
    "follows_users = pd.read_csv('data/follows_users_ttv_princearthur_20190421_2205.csv')\n",
    "# load accounts & info on following\n",
    "by_users = pd.read_csv('data/followed_by_users_ttv_princearthru_20190421_1846.csv')\n",
    "\n",
    "# url of each account following us\n",
    "by_usernames = np.array(by_users.user_profile)\n",
    "# url of each account we follow\n",
    "follows_usernames = np.array(follows_users.user_profile)\n",
    "\n",
    "# collect urls of profiles to unfollow \n",
    "unfollow_these = [user for user in follows_usernames if user not in by_usernames]\n",
    "# collect urls of profiles we do NOT want to unfollow (double check overlap)\n",
    "keep_these = [user for user in follows_usernames if user in by_usernames]\n",
    "\n",
    "# set count for safety check (make sure we don't unfollow anyone we don't want to)\n",
    "safe_check = 0\n",
    "# check overlap\n",
    "for user in keep_these:\n",
    "    # does user coexist?\n",
    "    if user in unfollow_these:\n",
    "        # display it\n",
    "        raise Exception(f'if user in unfollow_these : {user}')\n",
    "    # otherwise\n",
    "    else:\n",
    "        # add to count of non coexisting\n",
    "        safe_check += 1\n",
    "# double check overlap via count\n",
    "if safe_check != len(keep_these):\n",
    "    # display unequal counts\n",
    "    raise Exception(f'safe_check != len(keep_these) : {safe_check} != {len(keep_these)}')\n",
    "    \n",
    "# create csv to store accounts we have unfollowed (so do not re-follow in future)\n",
    "with open('accounts_ttvpa_used_to_follow.csv', 'w', newline='') as file:\n",
    "    # set writer to this file\n",
    "    the_writer = csv.writer(file)\n",
    "    # write column names\n",
    "    the_writer.writerow(['account_id','username','profile_url','time_unfollowed'])\n",
    "    "
   ]
  },
  {
   "cell_type": "code",
   "execution_count": 4,
   "metadata": {},
   "outputs": [],
   "source": [
    "# geckodriver options setup\n",
    "options = webdriver.FirefoxOptions()  \n",
    "# block popups (set push notifications to False)\n",
    "options.set_preference('dom.push.enabled', False) \n",
    "\n",
    "# set instagram.com\n",
    "instagram = \"https://www.instagram.com/\"\n",
    "# set path for login button from instagram.com (xpath)\n",
    "log_in = \"//a[@href='/accounts/login/?source=auth_switcher']\"\n",
    "# set path for user box for login page (xpath)\n",
    "user_box = \"//input[@name='username']\"\n",
    "# set path for password box for login page (xpath)\n",
    "pass_box = \"//input[@name='password']\"\n",
    "\n",
    "# define how we will log in \n",
    "def login(usr, pwd, driver):\n",
    "    \"\"\"\n",
    "    logs in to instagram \n",
    "    \n",
    "    inputs) \n",
    "        >> usr\n",
    "            > username, email, or phone number of account \n",
    "        >> pwd\n",
    "            > password of account \n",
    "        >> driver\n",
    "            > webdriver being used (pre-defined)\n",
    "    \"\"\"\n",
    "    # load base instagram \n",
    "    driver.get(instagram)\n",
    "    # hedge load time and misc\n",
    "    sleep(3)\n",
    "    # find and tag the login button \n",
    "    login_button = driver.find_element_by_xpath(log_in)\n",
    "    # click to login\n",
    "    login_button.click()\n",
    "    # hedge load time and etc..\n",
    "    sleep(3)\n",
    "    # find and tag the username, email, or phone number box\n",
    "    user_name_elem = driver.find_element_by_xpath(user_box)\n",
    "    # delete anything that may be in there\n",
    "    user_name_elem.clear()\n",
    "    # type in our user info \n",
    "    user_name_elem.send_keys(usr)\n",
    "    # take a breath\n",
    "    sleep(1)\n",
    "    # find and tag the pass box\n",
    "    passworword_elem = driver.find_element_by_xpath(pass_box)\n",
    "    # clear out anything that may be in there\n",
    "    passworword_elem.clear()\n",
    "    # plug in our pass info \n",
    "    passworword_elem.send_keys(pwd)\n",
    "    # take a breath\n",
    "    sleep(1)\n",
    "    # effectively hit 'enter' (logging in)\n",
    "    passworword_elem.send_keys(Keys.RETURN)\n",
    "    # and give it a bit to process, maybe extra load time, etc..\n",
    "    sleep(3)\n",
    "\n",
    "# set username \n",
    "user = utv\n",
    "# set passwrd\n",
    "pwrd = ptv\n",
    "\n",
    "# id css selector for 'following' button\n",
    "following_button = '.vBF20'\n",
    "# id css selector for 'unfollow' button\n",
    "unfollow_button = 'button.aOOlW:nth-child(1)'"
   ]
  },
  {
   "cell_type": "code",
   "execution_count": 5,
   "metadata": {},
   "outputs": [],
   "source": [
    "# set webdriver w/ options (activates driver, screen should appear)\n",
    "driver = webdriver.Firefox(options=options) \n",
    "\n",
    "# log in so we can get it poppin \n",
    "login(usr=user, pwd=pwrd, driver=driver)"
   ]
  },
  {
   "cell_type": "code",
   "execution_count": 6,
   "metadata": {},
   "outputs": [],
   "source": [
    "# define unfollow method and process \n",
    "def unfollow(accounts=unfollow_these, n=1):\n",
    "    \"\"\"\n",
    "    goes through list of accounts\n",
    "        loads the current account's profile url\n",
    "            makes sure that account is cleared for unfollowing\n",
    "                unfollows the account \n",
    "    inputs)\n",
    "        >> accounts\n",
    "            > list of accounts eligible for unfollowing\n",
    "        >> n\n",
    "            > number of those accounts we're going to unfollow right now\n",
    "                >> rec: n < 250 , due to mass unfollowing (usually) being prohibited \n",
    "                >> default: 1 (i.e. two (2) accounts)\n",
    "    \"\"\"\n",
    "    # go through first n urls\n",
    "    for user_url in accounts[:n]:\n",
    "        print(user_url)\n",
    "        \"\"\"\n",
    "        prime the mission\n",
    "        \"\"\"\n",
    "        # load the url\n",
    "        driver.get(user_url)\n",
    "        # wait for profile page to load\n",
    "        sleep(3)\n",
    "        # find and click the 'following' button \n",
    "        driver.find_element_by_css_selector(following_button).click()\n",
    "        # wait a bit (to seem human, for web loading, and not unfollow too quickly)\n",
    "        sleep(2)\n",
    "        \"\"\"\n",
    "        set up recording of transaction\n",
    "        \"\"\"\n",
    "        # pull the account's record\n",
    "        this_account = follows_usernames.loc[follows_users.user_profile == user_url]\n",
    "        # account's id number\n",
    "        account_id = this_account.id\n",
    "        # account's username\n",
    "        username = this_account.username\n",
    "        # account's url\n",
    "        profile_url = this_account.user_profile\n",
    "        # double check\n",
    "        if profile_url != user_url:\n",
    "            # let us know if it's not adding up \n",
    "            raise Exception(f'profile_url != user_url : {profile_url} != {user_url}')\n",
    "        # set values to be recorded \n",
    "        fields = [account_id, username, profile_url, datetime.datetime.now()]\n",
    "        \"\"\"\n",
    "        execute\n",
    "        \"\"\"\n",
    "        # find and click 'unfollow' button in popup \n",
    "        driver.find_element_by_css_selector(unfollow_button).click()\n",
    "        \"\"\"\n",
    "        record the transaction\n",
    "        \"\"\"\n",
    "        # open up the csv\n",
    "        with open('accounts_ttvpa_used_to_follow.csv', 'a') as _f:\n",
    "            # fit the writer\n",
    "            writer = csv.writer(_f)\n",
    "            # document the transaction\n",
    "            writer.writerow(fields)"
   ]
  },
  {
   "cell_type": "code",
   "execution_count": 7,
   "metadata": {},
   "outputs": [
    {
     "name": "stdout",
     "output_type": "stream",
     "text": [
      "https://www.instagram.com/ninja\n"
     ]
    },
    {
     "ename": "AttributeError",
     "evalue": "'numpy.ndarray' object has no attribute 'loc'",
     "output_type": "error",
     "traceback": [
      "\u001b[0;31m---------------------------------------------------------------------------\u001b[0m",
      "\u001b[0;31mAttributeError\u001b[0m                            Traceback (most recent call last)",
      "\u001b[0;32m<ipython-input-7-92663f8ce32a>\u001b[0m in \u001b[0;36m<module>\u001b[0;34m\u001b[0m\n\u001b[0;32m----> 1\u001b[0;31m \u001b[0munfollow\u001b[0m\u001b[0;34m(\u001b[0m\u001b[0;34m)\u001b[0m\u001b[0;34m\u001b[0m\u001b[0;34m\u001b[0m\u001b[0m\n\u001b[0m",
      "\u001b[0;32m<ipython-input-6-c8e132f57173>\u001b[0m in \u001b[0;36munfollow\u001b[0;34m(accounts, n)\u001b[0m\n\u001b[1;32m     32\u001b[0m         \"\"\"\n\u001b[1;32m     33\u001b[0m         \u001b[0;31m# pull the account's record\u001b[0m\u001b[0;34m\u001b[0m\u001b[0;34m\u001b[0m\u001b[0;34m\u001b[0m\u001b[0m\n\u001b[0;32m---> 34\u001b[0;31m         \u001b[0mthis_account\u001b[0m \u001b[0;34m=\u001b[0m \u001b[0mfollows_usernames\u001b[0m\u001b[0;34m.\u001b[0m\u001b[0mloc\u001b[0m\u001b[0;34m[\u001b[0m\u001b[0mfollows_users\u001b[0m\u001b[0;34m.\u001b[0m\u001b[0muser_profile\u001b[0m \u001b[0;34m==\u001b[0m \u001b[0muser_url\u001b[0m\u001b[0;34m]\u001b[0m\u001b[0;34m\u001b[0m\u001b[0;34m\u001b[0m\u001b[0m\n\u001b[0m\u001b[1;32m     35\u001b[0m         \u001b[0;31m# account's id number\u001b[0m\u001b[0;34m\u001b[0m\u001b[0;34m\u001b[0m\u001b[0;34m\u001b[0m\u001b[0m\n\u001b[1;32m     36\u001b[0m         \u001b[0maccount_id\u001b[0m \u001b[0;34m=\u001b[0m \u001b[0mthis_account\u001b[0m\u001b[0;34m.\u001b[0m\u001b[0mid\u001b[0m\u001b[0;34m\u001b[0m\u001b[0;34m\u001b[0m\u001b[0m\n",
      "\u001b[0;31mAttributeError\u001b[0m: 'numpy.ndarray' object has no attribute 'loc'"
     ]
    }
   ],
   "source": [
    "unfollow()"
   ]
  },
  {
   "cell_type": "code",
   "execution_count": null,
   "metadata": {},
   "outputs": [],
   "source": []
  }
 ],
 "metadata": {
  "kernelspec": {
   "display_name": "Python 3",
   "language": "python",
   "name": "python3"
  },
  "language_info": {
   "codemirror_mode": {
    "name": "ipython",
    "version": 3
   },
   "file_extension": ".py",
   "mimetype": "text/x-python",
   "name": "python",
   "nbconvert_exporter": "python",
   "pygments_lexer": "ipython3",
   "version": "3.7.2"
  }
 },
 "nbformat": 4,
 "nbformat_minor": 2
}
